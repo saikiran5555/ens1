{
 "cells": [
  {
   "cell_type": "markdown",
   "id": "dfd015c3",
   "metadata": {},
   "source": [
    "An ensemble technique in machine learning is a method that combines multiple individual models to produce a stronger overall model. The idea behind ensemble techniques is to leverage the diversity of multiple models to improve prediction accuracy and generalization performance.\n",
    "\n",
    "There are various types of ensemble techniques, including:\n",
    "\n",
    "Bagging (Bootstrap Aggregating): It involves training multiple instances of the same base model on different subsets of the training data and then aggregating their predictions, often by averaging (for regression) or voting (for classification).\n",
    "\n",
    "Boosting: It works by sequentially training weak learners (models slightly better than random guessing) and giving more weight to the instances that were misclassified in the previous iteration, thereby focusing on the difficult examples and improving overall performance.\n",
    "\n",
    "Random Forest: It is a popular ensemble method that combines bagging with decision trees. It builds multiple decision trees using random subsets of features and samples of the training data and then averages their predictions to reduce overfitting and improve accuracy.\n",
    "\n",
    "Gradient Boosting Machines (GBM): It's a boosting technique that builds multiple weak learners in a sequential manner, with each new model focusing on the errors made by the previous ones. GBM minimizes a loss function by adding new models to the ensemble.\n",
    "\n",
    "Stacking: It involves training a meta-model that combines the predictions of multiple base models. Instead of using simple averaging or voting, stacking learns how to best combine the predictions of the base models using another model."
   ]
  }
 ],
 "metadata": {
  "kernelspec": {
   "display_name": "Python 3 (ipykernel)",
   "language": "python",
   "name": "python3"
  },
  "language_info": {
   "codemirror_mode": {
    "name": "ipython",
    "version": 3
   },
   "file_extension": ".py",
   "mimetype": "text/x-python",
   "name": "python",
   "nbconvert_exporter": "python",
   "pygments_lexer": "ipython3",
   "version": "3.10.9"
  }
 },
 "nbformat": 4,
 "nbformat_minor": 5
}
